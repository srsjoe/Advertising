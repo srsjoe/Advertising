{
  "nbformat": 4,
  "nbformat_minor": 0,
  "metadata": {
    "colab": {
      "private_outputs": true,
      "provenance": [],
      "authorship_tag": "ABX9TyPN00RbJN71ei9sYeyWboug",
      "include_colab_link": true
    },
    "kernelspec": {
      "name": "python3",
      "display_name": "Python 3"
    },
    "language_info": {
      "name": "python"
    }
  },
  "cells": [
    {
      "cell_type": "markdown",
      "metadata": {
        "id": "view-in-github",
        "colab_type": "text"
      },
      "source": [
        "<a href=\"https://colab.research.google.com/github/srsjoe/Advertising/blob/main/Untitled4.ipynb\" target=\"_parent\"><img src=\"https://colab.research.google.com/assets/colab-badge.svg\" alt=\"Open In Colab\"/></a>"
      ]
    },
    {
      "cell_type": "code",
      "execution_count": null,
      "metadata": {
        "id": "6TQ19xwdEYSu"
      },
      "outputs": [],
      "source": [
        "dna=('GCCTTACTAGCTTTGGACATGCATGAACTGACATAGGGATATCGGCATGACAAAGTTTCCAGATGACCAGATAGACAGGGGTAGACCAGATTTA')"
      ]
    },
    {
      "cell_type": "code",
      "source": [
        "Acount = dna.count('A')"
      ],
      "metadata": {
        "id": "8V9fheAeFAoY"
      },
      "execution_count": null,
      "outputs": []
    },
    {
      "cell_type": "code",
      "source": [
        "Acount"
      ],
      "metadata": {
        "id": "qv7g4-4-FAYf"
      },
      "execution_count": null,
      "outputs": []
    },
    {
      "cell_type": "code",
      "source": [
        "Ccount = dna.count('C')"
      ],
      "metadata": {
        "id": "vvcQOgTaFogf"
      },
      "execution_count": null,
      "outputs": []
    },
    {
      "cell_type": "code",
      "source": [
        "Ccount"
      ],
      "metadata": {
        "id": "HS6O7rNUFudI"
      },
      "execution_count": null,
      "outputs": []
    },
    {
      "cell_type": "code",
      "source": [
        "TotalAC = Acount + Ccount"
      ],
      "metadata": {
        "id": "tyeCIwN3FxA2"
      },
      "execution_count": null,
      "outputs": []
    },
    {
      "cell_type": "code",
      "source": [
        "TotalAC"
      ],
      "metadata": {
        "id": "7kBNoPHHF7Bs"
      },
      "execution_count": null,
      "outputs": []
    },
    {
      "cell_type": "code",
      "source": [
        "dnalength= len(dna)"
      ],
      "metadata": {
        "id": "k0VP8DnPGDrc"
      },
      "execution_count": null,
      "outputs": []
    },
    {
      "cell_type": "code",
      "source": [
        "percentAC= 100 * (TotalAC/dnalength)"
      ],
      "metadata": {
        "id": "nvTZrwcCF6_F"
      },
      "execution_count": null,
      "outputs": []
    },
    {
      "cell_type": "code",
      "source": [
        "percentAC"
      ],
      "metadata": {
        "id": "P4wxqcUjF68e"
      },
      "execution_count": null,
      "outputs": []
    },
    {
      "cell_type": "code",
      "source": [
        "print('The percentage of A and C in this DNA sequence',str(percentAC))"
      ],
      "metadata": {
        "id": "_Ye7znw6HjYn"
      },
      "execution_count": null,
      "outputs": []
    },
    {
      "cell_type": "code",
      "source": [],
      "metadata": {
        "id": "tLMEpLvPF65n"
      },
      "execution_count": null,
      "outputs": []
    },
    {
      "cell_type": "code",
      "source": [
        "dna1=('GCCTTACTAGCTTTGGACATGCATGAACTGACATAGGGATATCGGCATGACAAAGTTTCCAGATGACCAGATAGACAGGGGTAGACCAGATTTA')"
      ],
      "metadata": {
        "id": "lZcn-eKQHGzu"
      },
      "execution_count": null,
      "outputs": []
    },
    {
      "cell_type": "code",
      "source": [
        "dna2=dna1.replace('G','c')"
      ],
      "metadata": {
        "id": "lhflfklHHGxH"
      },
      "execution_count": null,
      "outputs": []
    },
    {
      "cell_type": "code",
      "source": [
        "dna2"
      ],
      "metadata": {
        "id": "nDLjtVdSJER8"
      },
      "execution_count": null,
      "outputs": []
    },
    {
      "cell_type": "code",
      "source": [
        "dna3=dna2.replace('C','g')"
      ],
      "metadata": {
        "id": "5hL5jh2UHGuP"
      },
      "execution_count": null,
      "outputs": []
    },
    {
      "cell_type": "code",
      "source": [
        "dna3"
      ],
      "metadata": {
        "id": "x7lLzW-OHGjT"
      },
      "execution_count": null,
      "outputs": []
    },
    {
      "cell_type": "code",
      "source": [
        "Cap_dna3= dna3.upper()"
      ],
      "metadata": {
        "id": "u108VvRqJRqX"
      },
      "execution_count": null,
      "outputs": []
    },
    {
      "cell_type": "code",
      "source": [
        "Cap_dna3"
      ],
      "metadata": {
        "id": "Br2DZq9YJa56"
      },
      "execution_count": null,
      "outputs": []
    },
    {
      "cell_type": "code",
      "source": [],
      "metadata": {
        "id": "64e2K-ILKJ5P"
      },
      "execution_count": null,
      "outputs": []
    },
    {
      "cell_type": "code",
      "source": [
        "dna5=('ACTAGCTTTGGACATGCATGAACTGACATAGGGATATCGGCATGACAAAGTTTCCAGATGACCAGATAGACAGGGGTAGACCAGATTTAGTCGTC')"
      ],
      "metadata": {
        "id": "3tPqFEriKJ2H"
      },
      "execution_count": null,
      "outputs": []
    },
    {
      "cell_type": "code",
      "source": [
        "dna5.find('GATATC')"
      ],
      "metadata": {
        "id": "XYq1v8bXKJxJ"
      },
      "execution_count": null,
      "outputs": []
    },
    {
      "cell_type": "code",
      "source": [
        "dna5.find('GATA')"
      ],
      "metadata": {
        "id": "jTRgio5BKJum"
      },
      "execution_count": null,
      "outputs": []
    },
    {
      "cell_type": "code",
      "source": [
        "fragment1= dna5.find('GATA')+4"
      ],
      "metadata": {
        "id": "ni1mfXV7KJpn"
      },
      "execution_count": null,
      "outputs": []
    },
    {
      "cell_type": "code",
      "source": [
        "fragment1"
      ],
      "metadata": {
        "id": "fsfRPxrALq2M"
      },
      "execution_count": null,
      "outputs": []
    },
    {
      "cell_type": "code",
      "source": [
        "Length = len(dna5)"
      ],
      "metadata": {
        "id": "0iaqCg6mKJm-"
      },
      "execution_count": null,
      "outputs": []
    },
    {
      "cell_type": "code",
      "source": [
        "Length"
      ],
      "metadata": {
        "id": "Pj1rlbL_LdtI"
      },
      "execution_count": null,
      "outputs": []
    },
    {
      "cell_type": "code",
      "source": [
        "fragment2 = Length - fragment1"
      ],
      "metadata": {
        "id": "CnLxHr1bLEP7"
      },
      "execution_count": null,
      "outputs": []
    },
    {
      "cell_type": "code",
      "source": [
        "fragment2"
      ],
      "metadata": {
        "id": "Ns10-l0xLxU5"
      },
      "execution_count": null,
      "outputs": []
    },
    {
      "cell_type": "code",
      "source": [
        "print('The length of fragment 1 is ' + str(fragment1)+' and the length of fragment 2 is ' + str(fragment2))"
      ],
      "metadata": {
        "id": "ZoFq7q-COaPK"
      },
      "execution_count": null,
      "outputs": []
    },
    {
      "cell_type": "code",
      "source": [
        "len('TCGGCATGACAAAGTTTCCAGATGACCAGATAGACAGGGGTAGACCAGATTTAGTCGTC')"
      ],
      "metadata": {
        "id": "h6qlT6pVLxR3"
      },
      "execution_count": null,
      "outputs": []
    },
    {
      "cell_type": "code",
      "source": [
        "def dna5(seq):\n",
        "  dna5.find('GATATC')\n",
        "  dna5.find('GATA')\n",
        "  fragment1= dna5.find('GATA')+4\n",
        "  fragment2 = Length - fragment1\n",
        "  print(fragments= 'fragmentone= fragment1', 'fragmenttwo= fragment2')\n",
        "  return fragments\n",
        "\n",
        "\n"
      ],
      "metadata": {
        "id": "M1BEYGH4MlrI"
      },
      "execution_count": null,
      "outputs": []
    },
    {
      "cell_type": "code",
      "source": [
        "dna5('ACTAGCTTTGGACATGCATGAACTGACATAGGGATATCGGCATGACAAAGTTTCCAGATGACCAGATAGACAGGGGTAGACCAGATTTAGTCGTC')"
      ],
      "metadata": {
        "id": "sWw82obqNzOT"
      },
      "execution_count": null,
      "outputs": []
    }
  ]
}